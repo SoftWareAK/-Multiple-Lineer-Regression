{
 "cells": [
  {
   "cell_type": "markdown",
   "id": "432cc12d",
   "metadata": {},
   "source": [
    "## Which one is better to invest in? TV? RADİO? NEWSPAPER?\n",
    "## Our aim is to answer this question with regression."
   ]
  },
  {
   "cell_type": "code",
   "execution_count": null,
   "id": "4984e078",
   "metadata": {},
   "outputs": [],
   "source": []
  },
  {
   "cell_type": "code",
   "execution_count": 1,
   "id": "cfc07801",
   "metadata": {},
   "outputs": [],
   "source": [
    "#!pip install xgboost"
   ]
  },
  {
   "cell_type": "code",
   "execution_count": 96,
   "id": "ba45d894",
   "metadata": {},
   "outputs": [],
   "source": [
    "import pandas as pd \n",
    "import numpy as np \n",
    "import matplotlib.pyplot as plt\n",
    "import seaborn as sns\n",
    "%matplotlib inline \n",
    "import seaborn as sns\n",
    "import warnings\n",
    "warnings.filterwarnings(\"ignore\")\n",
    "\n",
    "from sklearn.linear_model import LinearRegression \n",
    "lr = LinearRegression()\n",
    "from sklearn.model_selection import train_test_split\n",
    "from sklearn.metrics import mean_squared_error, r2_score,mean_absolute_error\n",
    "\n",
    "from sklearn.linear_model import Ridge, Lasso\n",
    "R = Ridge()\n",
    "L= Lasso()\n",
    "from sklearn.linear_model import ElasticNet\n",
    "E = ElasticNet(l1_ratio=.9)\n",
    "from sklearn.tree import ExtraTreeRegressor\n",
    "ETR = ExtraTreeRegressor()\n",
    "#from xgboost import XGBRegressor\n",
    "from sklearn.ensemble import GradientBoostingRegressor\n",
    "GBR = GradientBoostingRegressor()\n",
    "from sklearn.neighbors import KNeighborsRegressor\n",
    "est = KNeighborsRegressor()"
   ]
  },
  {
   "cell_type": "code",
   "execution_count": null,
   "id": "8eede760",
   "metadata": {},
   "outputs": [],
   "source": []
  },
  {
   "cell_type": "code",
   "execution_count": 3,
   "id": "422a8518",
   "metadata": {},
   "outputs": [],
   "source": [
    "df=pd.read_csv('advertising.csv')"
   ]
  },
  {
   "cell_type": "markdown",
   "id": "82bd835d",
   "metadata": {},
   "source": [
    "EDA"
   ]
  },
  {
   "cell_type": "code",
   "execution_count": 4,
   "id": "ece4f89e",
   "metadata": {},
   "outputs": [
    {
     "name": "stdout",
     "output_type": "stream",
     "text": [
      "<class 'pandas.core.frame.DataFrame'>\n",
      "RangeIndex: 200 entries, 0 to 199\n",
      "Data columns (total 4 columns):\n",
      " #   Column     Non-Null Count  Dtype  \n",
      "---  ------     --------------  -----  \n",
      " 0   TV         200 non-null    float64\n",
      " 1   Radio      200 non-null    float64\n",
      " 2   Newspaper  200 non-null    float64\n",
      " 3   Sales      200 non-null    float64\n",
      "dtypes: float64(4)\n",
      "memory usage: 6.4 KB\n"
     ]
    }
   ],
   "source": [
    "df.info()"
   ]
  },
  {
   "cell_type": "code",
   "execution_count": 5,
   "id": "1db82dc4",
   "metadata": {},
   "outputs": [
    {
     "data": {
      "text/html": [
       "<div>\n",
       "<style scoped>\n",
       "    .dataframe tbody tr th:only-of-type {\n",
       "        vertical-align: middle;\n",
       "    }\n",
       "\n",
       "    .dataframe tbody tr th {\n",
       "        vertical-align: top;\n",
       "    }\n",
       "\n",
       "    .dataframe thead th {\n",
       "        text-align: right;\n",
       "    }\n",
       "</style>\n",
       "<table border=\"1\" class=\"dataframe\">\n",
       "  <thead>\n",
       "    <tr style=\"text-align: right;\">\n",
       "      <th></th>\n",
       "      <th>TV</th>\n",
       "      <th>Radio</th>\n",
       "      <th>Newspaper</th>\n",
       "      <th>Sales</th>\n",
       "    </tr>\n",
       "  </thead>\n",
       "  <tbody>\n",
       "    <tr>\n",
       "      <th>0</th>\n",
       "      <td>230.1</td>\n",
       "      <td>37.8</td>\n",
       "      <td>69.2</td>\n",
       "      <td>22.1</td>\n",
       "    </tr>\n",
       "    <tr>\n",
       "      <th>1</th>\n",
       "      <td>44.5</td>\n",
       "      <td>39.3</td>\n",
       "      <td>45.1</td>\n",
       "      <td>10.4</td>\n",
       "    </tr>\n",
       "    <tr>\n",
       "      <th>2</th>\n",
       "      <td>17.2</td>\n",
       "      <td>45.9</td>\n",
       "      <td>69.3</td>\n",
       "      <td>9.3</td>\n",
       "    </tr>\n",
       "    <tr>\n",
       "      <th>3</th>\n",
       "      <td>151.5</td>\n",
       "      <td>41.3</td>\n",
       "      <td>58.5</td>\n",
       "      <td>18.5</td>\n",
       "    </tr>\n",
       "    <tr>\n",
       "      <th>4</th>\n",
       "      <td>180.8</td>\n",
       "      <td>10.8</td>\n",
       "      <td>58.4</td>\n",
       "      <td>12.9</td>\n",
       "    </tr>\n",
       "  </tbody>\n",
       "</table>\n",
       "</div>"
      ],
      "text/plain": [
       "      TV  Radio  Newspaper  Sales\n",
       "0  230.1   37.8       69.2   22.1\n",
       "1   44.5   39.3       45.1   10.4\n",
       "2   17.2   45.9       69.3    9.3\n",
       "3  151.5   41.3       58.5   18.5\n",
       "4  180.8   10.8       58.4   12.9"
      ]
     },
     "execution_count": 5,
     "metadata": {},
     "output_type": "execute_result"
    }
   ],
   "source": [
    "df.head()"
   ]
  },
  {
   "cell_type": "code",
   "execution_count": 6,
   "id": "8c74defc",
   "metadata": {},
   "outputs": [
    {
     "data": {
      "text/html": [
       "<div>\n",
       "<style scoped>\n",
       "    .dataframe tbody tr th:only-of-type {\n",
       "        vertical-align: middle;\n",
       "    }\n",
       "\n",
       "    .dataframe tbody tr th {\n",
       "        vertical-align: top;\n",
       "    }\n",
       "\n",
       "    .dataframe thead th {\n",
       "        text-align: right;\n",
       "    }\n",
       "</style>\n",
       "<table border=\"1\" class=\"dataframe\">\n",
       "  <thead>\n",
       "    <tr style=\"text-align: right;\">\n",
       "      <th></th>\n",
       "      <th>TV</th>\n",
       "      <th>Radio</th>\n",
       "      <th>Newspaper</th>\n",
       "      <th>Sales</th>\n",
       "    </tr>\n",
       "  </thead>\n",
       "  <tbody>\n",
       "    <tr>\n",
       "      <th>194</th>\n",
       "      <td>149.7</td>\n",
       "      <td>35.6</td>\n",
       "      <td>6.0</td>\n",
       "      <td>17.3</td>\n",
       "    </tr>\n",
       "    <tr>\n",
       "      <th>11</th>\n",
       "      <td>214.7</td>\n",
       "      <td>24.0</td>\n",
       "      <td>4.0</td>\n",
       "      <td>17.4</td>\n",
       "    </tr>\n",
       "    <tr>\n",
       "      <th>165</th>\n",
       "      <td>234.5</td>\n",
       "      <td>3.4</td>\n",
       "      <td>84.8</td>\n",
       "      <td>11.9</td>\n",
       "    </tr>\n",
       "    <tr>\n",
       "      <th>56</th>\n",
       "      <td>7.3</td>\n",
       "      <td>28.1</td>\n",
       "      <td>41.4</td>\n",
       "      <td>5.5</td>\n",
       "    </tr>\n",
       "    <tr>\n",
       "      <th>134</th>\n",
       "      <td>36.9</td>\n",
       "      <td>38.6</td>\n",
       "      <td>65.6</td>\n",
       "      <td>10.8</td>\n",
       "    </tr>\n",
       "  </tbody>\n",
       "</table>\n",
       "</div>"
      ],
      "text/plain": [
       "        TV  Radio  Newspaper  Sales\n",
       "194  149.7   35.6        6.0   17.3\n",
       "11   214.7   24.0        4.0   17.4\n",
       "165  234.5    3.4       84.8   11.9\n",
       "56     7.3   28.1       41.4    5.5\n",
       "134   36.9   38.6       65.6   10.8"
      ]
     },
     "execution_count": 6,
     "metadata": {},
     "output_type": "execute_result"
    }
   ],
   "source": [
    "df.sample(5)"
   ]
  },
  {
   "cell_type": "code",
   "execution_count": 7,
   "id": "e47a2f8d",
   "metadata": {},
   "outputs": [
    {
     "data": {
      "text/plain": [
       "TV           0\n",
       "Radio        0\n",
       "Newspaper    0\n",
       "Sales        0\n",
       "dtype: int64"
      ]
     },
     "execution_count": 7,
     "metadata": {},
     "output_type": "execute_result"
    }
   ],
   "source": [
    "df.isnull().sum()"
   ]
  },
  {
   "cell_type": "code",
   "execution_count": 8,
   "id": "00136dc8",
   "metadata": {},
   "outputs": [
    {
     "data": {
      "text/plain": [
       "Sales        1.000000\n",
       "TV           0.782224\n",
       "Radio        0.576223\n",
       "Newspaper    0.228299\n",
       "Name: Sales, dtype: float64"
      ]
     },
     "execution_count": 8,
     "metadata": {},
     "output_type": "execute_result"
    }
   ],
   "source": [
    "abs(df.corr()['Sales']).sort_values(ascending=False)"
   ]
  },
  {
   "cell_type": "code",
   "execution_count": 9,
   "id": "1756dc03",
   "metadata": {},
   "outputs": [
    {
     "data": {
      "text/html": [
       "<div>\n",
       "<style scoped>\n",
       "    .dataframe tbody tr th:only-of-type {\n",
       "        vertical-align: middle;\n",
       "    }\n",
       "\n",
       "    .dataframe tbody tr th {\n",
       "        vertical-align: top;\n",
       "    }\n",
       "\n",
       "    .dataframe thead th {\n",
       "        text-align: right;\n",
       "    }\n",
       "</style>\n",
       "<table border=\"1\" class=\"dataframe\">\n",
       "  <thead>\n",
       "    <tr style=\"text-align: right;\">\n",
       "      <th></th>\n",
       "      <th>TV</th>\n",
       "      <th>Radio</th>\n",
       "      <th>Newspaper</th>\n",
       "      <th>Sales</th>\n",
       "    </tr>\n",
       "  </thead>\n",
       "  <tbody>\n",
       "    <tr>\n",
       "      <th>count</th>\n",
       "      <td>200.000000</td>\n",
       "      <td>200.000000</td>\n",
       "      <td>200.000000</td>\n",
       "      <td>200.000000</td>\n",
       "    </tr>\n",
       "    <tr>\n",
       "      <th>mean</th>\n",
       "      <td>147.042500</td>\n",
       "      <td>23.264000</td>\n",
       "      <td>30.554000</td>\n",
       "      <td>14.022500</td>\n",
       "    </tr>\n",
       "    <tr>\n",
       "      <th>std</th>\n",
       "      <td>85.854236</td>\n",
       "      <td>14.846809</td>\n",
       "      <td>21.778621</td>\n",
       "      <td>5.217457</td>\n",
       "    </tr>\n",
       "    <tr>\n",
       "      <th>min</th>\n",
       "      <td>0.700000</td>\n",
       "      <td>0.000000</td>\n",
       "      <td>0.300000</td>\n",
       "      <td>1.600000</td>\n",
       "    </tr>\n",
       "    <tr>\n",
       "      <th>25%</th>\n",
       "      <td>74.375000</td>\n",
       "      <td>9.975000</td>\n",
       "      <td>12.750000</td>\n",
       "      <td>10.375000</td>\n",
       "    </tr>\n",
       "    <tr>\n",
       "      <th>50%</th>\n",
       "      <td>149.750000</td>\n",
       "      <td>22.900000</td>\n",
       "      <td>25.750000</td>\n",
       "      <td>12.900000</td>\n",
       "    </tr>\n",
       "    <tr>\n",
       "      <th>75%</th>\n",
       "      <td>218.825000</td>\n",
       "      <td>36.525000</td>\n",
       "      <td>45.100000</td>\n",
       "      <td>17.400000</td>\n",
       "    </tr>\n",
       "    <tr>\n",
       "      <th>max</th>\n",
       "      <td>296.400000</td>\n",
       "      <td>49.600000</td>\n",
       "      <td>114.000000</td>\n",
       "      <td>27.000000</td>\n",
       "    </tr>\n",
       "  </tbody>\n",
       "</table>\n",
       "</div>"
      ],
      "text/plain": [
       "               TV       Radio   Newspaper       Sales\n",
       "count  200.000000  200.000000  200.000000  200.000000\n",
       "mean   147.042500   23.264000   30.554000   14.022500\n",
       "std     85.854236   14.846809   21.778621    5.217457\n",
       "min      0.700000    0.000000    0.300000    1.600000\n",
       "25%     74.375000    9.975000   12.750000   10.375000\n",
       "50%    149.750000   22.900000   25.750000   12.900000\n",
       "75%    218.825000   36.525000   45.100000   17.400000\n",
       "max    296.400000   49.600000  114.000000   27.000000"
      ]
     },
     "execution_count": 9,
     "metadata": {},
     "output_type": "execute_result"
    }
   ],
   "source": [
    "df.describe()"
   ]
  },
  {
   "cell_type": "code",
   "execution_count": 10,
   "id": "9d758748",
   "metadata": {
    "collapsed": true
   },
   "outputs": [
    {
     "data": {
      "text/plain": [
       "<seaborn.axisgrid.PairGrid at 0x1a86fbe48e0>"
      ]
     },
     "execution_count": 10,
     "metadata": {},
     "output_type": "execute_result"
    },
    {
     "data": {
      "image/png": "[encoded data removed]",
      "text/plain": [
       "<Figure size 588.75x540 with 12 Axes>"
      ]
     },
     "metadata": {
      "needs_background": "light"
     },
     "output_type": "display_data"
    }
   ],
   "source": [
    " sns.pairplot(df, hue='Sales',palette='afmhot',size=2.5)"
   ]
  },
  {
   "cell_type": "code",
   "execution_count": 11,
   "id": "46dc1ca0",
   "metadata": {},
   "outputs": [],
   "source": [
    "x = df[['TV','Radio','Newspaper']]"
   ]
  },
  {
   "cell_type": "code",
   "execution_count": 12,
   "id": "878e7812",
   "metadata": {},
   "outputs": [],
   "source": [
    "y = df[['Sales']]"
   ]
  },
  {
   "cell_type": "code",
   "execution_count": 13,
   "id": "14537af3",
   "metadata": {},
   "outputs": [
    {
     "data": {
      "text/plain": [
       "(200, 4)"
      ]
     },
     "execution_count": 13,
     "metadata": {},
     "output_type": "execute_result"
    }
   ],
   "source": [
    "df.shape"
   ]
  },
  {
   "cell_type": "code",
   "execution_count": 14,
   "id": "23246476",
   "metadata": {},
   "outputs": [
    {
     "data": {
      "text/plain": [
       "(200, 3)"
      ]
     },
     "execution_count": 14,
     "metadata": {},
     "output_type": "execute_result"
    }
   ],
   "source": [
    "x.shape"
   ]
  },
  {
   "cell_type": "code",
   "execution_count": 15,
   "id": "9b636769",
   "metadata": {},
   "outputs": [
    {
     "data": {
      "text/plain": [
       "(200, 1)"
      ]
     },
     "execution_count": 15,
     "metadata": {},
     "output_type": "execute_result"
    }
   ],
   "source": [
    "y.shape"
   ]
  },
  {
   "cell_type": "code",
   "execution_count": 16,
   "id": "4e4cd3fd",
   "metadata": {},
   "outputs": [],
   "source": [
    "x_train, x_test,y_train, y_test = train_test_split(x,y,test_size=0.20,random_state=13)"
   ]
  },
  {
   "cell_type": "code",
   "execution_count": 17,
   "id": "68c2fcb4",
   "metadata": {},
   "outputs": [
    {
     "data": {
      "text/plain": [
       "((160, 3), (40, 3), (160, 1), (40, 1))"
      ]
     },
     "execution_count": 17,
     "metadata": {},
     "output_type": "execute_result"
    }
   ],
   "source": [
    "x_train.shape, x_test.shape,y_train.shape, y_test.shape "
   ]
  },
  {
   "cell_type": "code",
   "execution_count": null,
   "id": "c72cc76c",
   "metadata": {},
   "outputs": [],
   "source": []
  },
  {
   "cell_type": "code",
   "execution_count": 18,
   "id": "2343d1ed",
   "metadata": {},
   "outputs": [],
   "source": [
    "regmodel = lr.fit(x_train,y_train)"
   ]
  },
  {
   "cell_type": "code",
   "execution_count": 19,
   "id": "7b59eab9",
   "metadata": {
    "collapsed": true
   },
   "outputs": [
    {
     "data": {
      "text/plain": [
       "array([[12.41367767],\n",
       "       [ 5.32067348],\n",
       "       [16.55144938],\n",
       "       [12.36717245],\n",
       "       [12.71077284],\n",
       "       [23.63881378],\n",
       "       [21.62206727],\n",
       "       [14.74035857],\n",
       "       [22.19982768],\n",
       "       [15.32872133],\n",
       "       [16.21757736],\n",
       "       [ 6.10442096],\n",
       "       [ 7.88988888],\n",
       "       [18.91129331],\n",
       "       [17.68863982],\n",
       "       [16.7673735 ],\n",
       "       [ 8.42129698],\n",
       "       [ 9.69259232],\n",
       "       [20.29047962],\n",
       "       [17.71616686],\n",
       "       [12.01762517],\n",
       "       [ 7.84345791],\n",
       "       [21.58818774],\n",
       "       [12.12397718],\n",
       "       [17.11548063],\n",
       "       [19.33168908],\n",
       "       [10.05575241],\n",
       "       [14.1727504 ],\n",
       "       [23.07525292],\n",
       "       [ 8.76424307],\n",
       "       [15.4412187 ],\n",
       "       [18.25749861],\n",
       "       [17.77840777],\n",
       "       [ 7.04391172],\n",
       "       [16.88038275],\n",
       "       [ 8.86721612],\n",
       "       [10.0519968 ],\n",
       "       [20.67873857],\n",
       "       [ 5.40059981],\n",
       "       [10.49904798]])"
      ]
     },
     "execution_count": 19,
     "metadata": {},
     "output_type": "execute_result"
    }
   ],
   "source": [
    "y_pretest = regmodel.predict(x_test)\n",
    "y_pretest"
   ]
  },
  {
   "cell_type": "code",
   "execution_count": 20,
   "id": "6bcde19a",
   "metadata": {
    "collapsed": true
   },
   "outputs": [
    {
     "data": {
      "text/plain": [
       "array([[12.41367767],\n",
       "       [ 5.32067348],\n",
       "       [16.55144938],\n",
       "       [12.36717245],\n",
       "       [12.71077284],\n",
       "       [23.63881378],\n",
       "       [21.62206727],\n",
       "       [14.74035857],\n",
       "       [22.19982768],\n",
       "       [15.32872133],\n",
       "       [16.21757736],\n",
       "       [ 6.10442096],\n",
       "       [ 7.88988888],\n",
       "       [18.91129331],\n",
       "       [17.68863982],\n",
       "       [16.7673735 ],\n",
       "       [ 8.42129698],\n",
       "       [ 9.69259232],\n",
       "       [20.29047962],\n",
       "       [17.71616686],\n",
       "       [12.01762517],\n",
       "       [ 7.84345791],\n",
       "       [21.58818774],\n",
       "       [12.12397718],\n",
       "       [17.11548063],\n",
       "       [19.33168908],\n",
       "       [10.05575241],\n",
       "       [14.1727504 ],\n",
       "       [23.07525292],\n",
       "       [ 8.76424307],\n",
       "       [15.4412187 ],\n",
       "       [18.25749861],\n",
       "       [17.77840777],\n",
       "       [ 7.04391172],\n",
       "       [16.88038275],\n",
       "       [ 8.86721612],\n",
       "       [10.0519968 ],\n",
       "       [20.67873857],\n",
       "       [ 5.40059981],\n",
       "       [10.49904798]])"
      ]
     },
     "execution_count": 20,
     "metadata": {},
     "output_type": "execute_result"
    }
   ],
   "source": [
    "y_pretest = regmodel.predict(x_test)\n",
    "y_pretest"
   ]
  },
  {
   "cell_type": "code",
   "execution_count": 21,
   "id": "5391b043",
   "metadata": {},
   "outputs": [
    {
     "data": {
      "text/plain": [
       "1.4450331170699846"
      ]
     },
     "execution_count": 21,
     "metadata": {},
     "output_type": "execute_result"
    }
   ],
   "source": [
    "(mean_squared_error(y_test, y_pretest)) ** 0.5"
   ]
  },
  {
   "cell_type": "code",
   "execution_count": 22,
   "id": "68ea855a",
   "metadata": {},
   "outputs": [
    {
     "data": {
      "text/plain": [
       "0.923230430701987"
      ]
     },
     "execution_count": 22,
     "metadata": {},
     "output_type": "execute_result"
    }
   ],
   "source": [
    "r2_score( y_pretest,y_test)"
   ]
  },
  {
   "cell_type": "code",
   "execution_count": null,
   "id": "87021ddb",
   "metadata": {
    "scrolled": false
   },
   "outputs": [],
   "source": []
  },
  {
   "cell_type": "code",
   "execution_count": null,
   "id": "38aec259",
   "metadata": {},
   "outputs": [],
   "source": []
  },
  {
   "cell_type": "code",
   "execution_count": 25,
   "id": "c8e981fc",
   "metadata": {},
   "outputs": [],
   "source": [
    "\n",
    "R.fit(x_train, y_train)\n",
    "y_pred_ridge = R.predict(x_test)"
   ]
  },
  {
   "cell_type": "code",
   "execution_count": 26,
   "id": "b11b08b4",
   "metadata": {},
   "outputs": [
    {
     "data": {
      "text/plain": [
       "1.4450443882913806"
      ]
     },
     "execution_count": 26,
     "metadata": {},
     "output_type": "execute_result"
    }
   ],
   "source": [
    "(mean_squared_error(y_test, y_pred_ridge))**0.5"
   ]
  },
  {
   "cell_type": "code",
   "execution_count": 27,
   "id": "7943e3ca",
   "metadata": {},
   "outputs": [
    {
     "data": {
      "text/plain": [
       "0.9308578548094248"
      ]
     },
     "execution_count": 27,
     "metadata": {},
     "output_type": "execute_result"
    }
   ],
   "source": [
    "r2_score(y_test, y_pred_ridge)"
   ]
  },
  {
   "cell_type": "code",
   "execution_count": null,
   "id": "c9245667",
   "metadata": {},
   "outputs": [],
   "source": []
  },
  {
   "cell_type": "code",
   "execution_count": 28,
   "id": "2596e534",
   "metadata": {},
   "outputs": [],
   "source": [
    "\n",
    "L.fit(x_train, y_train)\n",
    "y_pred_lasso = L.predict(x_test)"
   ]
  },
  {
   "cell_type": "code",
   "execution_count": 29,
   "id": "0ae022b1",
   "metadata": {},
   "outputs": [
    {
     "data": {
      "text/plain": [
       "array([12.45649332,  5.337478  , 16.57121349, 12.41055088, 12.75655791,\n",
       "       23.61544425, 21.50564275, 14.89396963, 21.96976612, 15.3172846 ,\n",
       "       16.23055875,  6.18818676,  7.90069203, 18.83857756, 17.73000939,\n",
       "       16.68670668,  8.33656844,  9.76873812, 20.15041517, 17.69273802,\n",
       "       12.06403668,  7.95455102, 21.58130585, 12.09869115, 17.18299647,\n",
       "       19.39221625, 10.16931155, 14.43083081, 23.17868376,  8.68393138,\n",
       "       15.43479953, 18.30721481, 17.7239206 ,  7.13906833, 16.76548207,\n",
       "        8.9023674 , 10.10507222, 20.59436125,  5.48239668, 10.50587568])"
      ]
     },
     "execution_count": 29,
     "metadata": {},
     "output_type": "execute_result"
    }
   ],
   "source": [
    "y_pred_lasso\n"
   ]
  },
  {
   "cell_type": "code",
   "execution_count": 30,
   "id": "c7ed18e7",
   "metadata": {},
   "outputs": [
    {
     "data": {
      "text/plain": [
       "1.453709668511276"
      ]
     },
     "execution_count": 30,
     "metadata": {},
     "output_type": "execute_result"
    }
   ],
   "source": [
    "(mean_squared_error(y_test, y_pred_lasso))**0.5"
   ]
  },
  {
   "cell_type": "code",
   "execution_count": 31,
   "id": "c6266741",
   "metadata": {},
   "outputs": [
    {
     "data": {
      "text/plain": [
       "0.9300261399604096"
      ]
     },
     "execution_count": 31,
     "metadata": {},
     "output_type": "execute_result"
    }
   ],
   "source": [
    "r2_score(y_test,  y_pred_lasso)\n"
   ]
  },
  {
   "cell_type": "code",
   "execution_count": 32,
   "id": "d44a672a",
   "metadata": {},
   "outputs": [],
   "source": [
    "\n",
    "E.fit(x_train,y_train)\n",
    "y_pred_elastic = E.predict(x_test)"
   ]
  },
  {
   "cell_type": "code",
   "execution_count": 33,
   "id": "db68410d",
   "metadata": {},
   "outputs": [
    {
     "data": {
      "text/plain": [
       "1.4524538298766347"
      ]
     },
     "execution_count": 33,
     "metadata": {},
     "output_type": "execute_result"
    }
   ],
   "source": [
    "(mean_squared_error(y_test, y_pred_elastic))**0.5\n"
   ]
  },
  {
   "cell_type": "code",
   "execution_count": 34,
   "id": "4c54d1f2",
   "metadata": {},
   "outputs": [
    {
     "data": {
      "text/plain": [
       "0.9301469865385257"
      ]
     },
     "execution_count": 34,
     "metadata": {},
     "output_type": "execute_result"
    }
   ],
   "source": [
    "r2_score(y_test, y_pred_elastic)"
   ]
  },
  {
   "cell_type": "code",
   "execution_count": null,
   "id": "5ae6ddde",
   "metadata": {},
   "outputs": [],
   "source": []
  },
  {
   "cell_type": "code",
   "execution_count": 35,
   "id": "4557f49d",
   "metadata": {},
   "outputs": [],
   "source": [
    "ETR.fit(x_train,y_train)\n",
    "y_pred_etr = ETR.predict(x_test)"
   ]
  },
  {
   "cell_type": "code",
   "execution_count": 36,
   "id": "17aedbc8",
   "metadata": {},
   "outputs": [
    {
     "data": {
      "text/plain": [
       "0.8948463555270254"
      ]
     },
     "execution_count": 36,
     "metadata": {},
     "output_type": "execute_result"
    }
   ],
   "source": [
    "(mean_squared_error(y_test, y_pred_etr))**0.5"
   ]
  },
  {
   "cell_type": "code",
   "execution_count": 37,
   "id": "98b720d2",
   "metadata": {},
   "outputs": [
    {
     "data": {
      "text/plain": [
       "0.9734858675452284"
      ]
     },
     "execution_count": 37,
     "metadata": {},
     "output_type": "execute_result"
    }
   ],
   "source": [
    "r2_score(y_test, y_pred_etr)"
   ]
  },
  {
   "cell_type": "code",
   "execution_count": null,
   "id": "9508aecd",
   "metadata": {},
   "outputs": [],
   "source": []
  },
  {
   "cell_type": "code",
   "execution_count": 38,
   "id": "50c4621a",
   "metadata": {},
   "outputs": [],
   "source": [
    "GBR.fit(x_train,y_train)\n",
    "y_pred_gbr =GBR.predict(x_test)"
   ]
  },
  {
   "cell_type": "code",
   "execution_count": 39,
   "id": "1a2ab5b8",
   "metadata": {},
   "outputs": [
    {
     "data": {
      "text/plain": [
       "0.7824043783884381"
      ]
     },
     "execution_count": 39,
     "metadata": {},
     "output_type": "execute_result"
    }
   ],
   "source": [
    "(mean_squared_error(y_test, y_pred_gbr))**0.5"
   ]
  },
  {
   "cell_type": "code",
   "execution_count": 40,
   "id": "6b02e840",
   "metadata": {},
   "outputs": [
    {
     "data": {
      "text/plain": [
       "0.9797305008109402"
      ]
     },
     "execution_count": 40,
     "metadata": {},
     "output_type": "execute_result"
    }
   ],
   "source": [
    "r2_score(y_test, y_pred_gbr)"
   ]
  },
  {
   "cell_type": "code",
   "execution_count": null,
   "id": "54c7473c",
   "metadata": {},
   "outputs": [],
   "source": []
  },
  {
   "cell_type": "code",
   "execution_count": 41,
   "id": "f07cc05c",
   "metadata": {},
   "outputs": [],
   "source": [
    "model=est.fit(x_train,y_train)"
   ]
  },
  {
   "cell_type": "code",
   "execution_count": 42,
   "id": "36c10df0",
   "metadata": {},
   "outputs": [],
   "source": [
    "y_pred_knb = model.predict(x_test)"
   ]
  },
  {
   "cell_type": "code",
   "execution_count": 43,
   "id": "3f85447a",
   "metadata": {},
   "outputs": [
    {
     "data": {
      "text/plain": [
       "1.698561155802169"
      ]
     },
     "execution_count": 43,
     "metadata": {},
     "output_type": "execute_result"
    }
   ],
   "source": [
    "(mean_squared_error(y_test, y_pred_knb))**0.5"
   ]
  },
  {
   "cell_type": "code",
   "execution_count": 44,
   "id": "06c6668d",
   "metadata": {},
   "outputs": [
    {
     "data": {
      "text/plain": [
       "0.9044693241503764"
      ]
     },
     "execution_count": 44,
     "metadata": {},
     "output_type": "execute_result"
    }
   ],
   "source": [
    "r2_score(y_test, y_pred_knb)"
   ]
  },
  {
   "cell_type": "markdown",
   "id": "7fb323f8",
   "metadata": {},
   "source": [
    "# long way- invest in tv"
   ]
  },
  {
   "cell_type": "code",
   "execution_count": 45,
   "id": "7ea1ae54",
   "metadata": {},
   "outputs": [],
   "source": [
    "xtv,ytv= df[['TV']],df[['Sales']]"
   ]
  },
  {
   "cell_type": "code",
   "execution_count": 46,
   "id": "ca8e1354",
   "metadata": {},
   "outputs": [],
   "source": [
    "xtv_train, xtv_test,ytv_train, ytv_test = train_test_split(xtv,ytv,test_size=0.20,random_state=13)"
   ]
  },
  {
   "cell_type": "code",
   "execution_count": 47,
   "id": "bd9d8f78",
   "metadata": {
    "scrolled": true
   },
   "outputs": [],
   "source": [
    "regmodel = lr.fit(xtv_train,ytv_train)"
   ]
  },
  {
   "cell_type": "code",
   "execution_count": 48,
   "id": "5b670630",
   "metadata": {
    "collapsed": true
   },
   "outputs": [
    {
     "data": {
      "text/plain": [
       "array([[14.90551819],\n",
       "       [ 7.42035449],\n",
       "       [17.81152292],\n",
       "       [13.33432903],\n",
       "       [16.3886466 ],\n",
       "       [20.3745542 ],\n",
       "       [20.83803183],\n",
       "       [17.69565351],\n",
       "       [17.44074082],\n",
       "       [15.80003001],\n",
       "       [14.79891833],\n",
       "       [ 8.38902273],\n",
       "       [10.4283243 ],\n",
       "       [19.54029447],\n",
       "       [20.21697181],\n",
       "       [12.31931302],\n",
       "       [ 7.61964987],\n",
       "       [12.60666915],\n",
       "       [18.27036577],\n",
       "       [16.45816824],\n",
       "       [15.03529192],\n",
       "       [ 9.99265533],\n",
       "       [20.8055884 ],\n",
       "       [12.80132976],\n",
       "       [17.21363678],\n",
       "       [17.86714023],\n",
       "       [14.17322354],\n",
       "       [18.09887905],\n",
       "       [20.96780557],\n",
       "       [ 7.48060658],\n",
       "       [12.36102601],\n",
       "       [16.20789032],\n",
       "       [13.62168516],\n",
       "       [10.29391579],\n",
       "       [13.30652037],\n",
       "       [11.74923554],\n",
       "       [13.45483321],\n",
       "       [16.28668152],\n",
       "       [ 9.0008132 ],\n",
       "       [12.20807839]])"
      ]
     },
     "execution_count": 48,
     "metadata": {},
     "output_type": "execute_result"
    }
   ],
   "source": [
    "ytv_pretest = regmodel.predict(xtv_test)\n",
    "ytv_pretest"
   ]
  },
  {
   "cell_type": "code",
   "execution_count": 49,
   "id": "1cd961d9",
   "metadata": {},
   "outputs": [
    {
     "data": {
      "text/plain": [
       "3.294569183401592"
      ]
     },
     "execution_count": 49,
     "metadata": {},
     "output_type": "execute_result"
    }
   ],
   "source": [
    "(mean_squared_error(ytv_test, ytv_pretest)) ** 0.5"
   ]
  },
  {
   "cell_type": "code",
   "execution_count": 50,
   "id": "18b2140b",
   "metadata": {},
   "outputs": [
    {
     "data": {
      "text/plain": [
       "0.6406002771701338"
      ]
     },
     "execution_count": 50,
     "metadata": {},
     "output_type": "execute_result"
    }
   ],
   "source": [
    "r2_score(ytv_test, ytv_pretest)"
   ]
  },
  {
   "cell_type": "code",
   "execution_count": 54,
   "id": "bd3b78dd",
   "metadata": {},
   "outputs": [
    {
     "data": {
      "image/png": "[encoded data removed]",
      "text/plain": [
       "<Figure size 432x288 with 1 Axes>"
      ]
     },
     "metadata": {
      "needs_background": "light"
     },
     "output_type": "display_data"
    }
   ],
   "source": [
    "plt.scatter(xtv,ytv,color='red')\n",
    "b,a=np.polyfit(xtv.values.reshape(200),ytv.values.reshape(200),deg=1)\n",
    "xseq=np.linspace(0,300, num=100)\n",
    "plt.plot(xseq,a + b * xseq,color='k',lw=2.5);"
   ]
  },
  {
   "cell_type": "code",
   "execution_count": 55,
   "id": "7d057c96",
   "metadata": {},
   "outputs": [],
   "source": [
    "\n",
    "R.fit(xtv_train, ytv_train)\n",
    "ytv_pred_ridge = R.predict(xtv_test)\n",
    "\n",
    "L.fit(xtv_train, ytv_train)\n",
    "ytv_pred_lasso = L.predict(xtv_test)\n",
    "\n",
    "E.fit(xtv_train,ytv_train)\n",
    "ytv_pred_elastic = E.predict(xtv_test)\n",
    "\n",
    "ETR.fit(xtv_train,ytv_train)\n",
    "ytv_pred_etr = ETR.predict(xtv_test)\n",
    "\n",
    "GBR.fit(xtv_train,ytv_train)\n",
    "ytv_pred_gbr =GBR.predict(xtv_test)"
   ]
  },
  {
   "cell_type": "code",
   "execution_count": 56,
   "id": "14e715a5",
   "metadata": {},
   "outputs": [
    {
     "data": {
      "text/plain": [
       "3.2945697005842205"
      ]
     },
     "execution_count": 56,
     "metadata": {},
     "output_type": "execute_result"
    }
   ],
   "source": [
    "(mean_squared_error(ytv_test, ytv_pred_ridge))**0.5"
   ]
  },
  {
   "cell_type": "code",
   "execution_count": 57,
   "id": "9404d418",
   "metadata": {},
   "outputs": [
    {
     "data": {
      "text/plain": [
       "0.6406001643327353"
      ]
     },
     "execution_count": 57,
     "metadata": {},
     "output_type": "execute_result"
    }
   ],
   "source": [
    "r2_score(ytv_test, ytv_pred_ridge)"
   ]
  },
  {
   "cell_type": "code",
   "execution_count": 58,
   "id": "3ffe0e08",
   "metadata": {},
   "outputs": [
    {
     "data": {
      "text/plain": [
       "3.2963746635041313"
      ]
     },
     "execution_count": 58,
     "metadata": {},
     "output_type": "execute_result"
    }
   ],
   "source": [
    "\n",
    "(mean_squared_error(ytv_test, ytv_pred_lasso))**0.5"
   ]
  },
  {
   "cell_type": "code",
   "execution_count": 59,
   "id": "89a3c894",
   "metadata": {},
   "outputs": [
    {
     "data": {
      "text/plain": [
       "0.6402062548786426"
      ]
     },
     "execution_count": 59,
     "metadata": {},
     "output_type": "execute_result"
    }
   ],
   "source": [
    "r2_score(ytv_test,  ytv_pred_lasso)"
   ]
  },
  {
   "cell_type": "code",
   "execution_count": 60,
   "id": "3d100904",
   "metadata": {},
   "outputs": [
    {
     "data": {
      "text/plain": [
       "3.296200729089119"
      ]
     },
     "execution_count": 60,
     "metadata": {},
     "output_type": "execute_result"
    }
   ],
   "source": [
    "\n",
    "(mean_squared_error(ytv_test, ytv_pred_elastic))**0.5"
   ]
  },
  {
   "cell_type": "code",
   "execution_count": 61,
   "id": "8a3a9805",
   "metadata": {},
   "outputs": [
    {
     "data": {
      "text/plain": [
       "0.6402442231740755"
      ]
     },
     "execution_count": 61,
     "metadata": {},
     "output_type": "execute_result"
    }
   ],
   "source": [
    "r2_score(ytv_test, ytv_pred_elastic)"
   ]
  },
  {
   "cell_type": "code",
   "execution_count": 62,
   "id": "86ae0427",
   "metadata": {},
   "outputs": [
    {
     "data": {
      "text/plain": [
       "4.559906797293119"
      ]
     },
     "execution_count": 62,
     "metadata": {},
     "output_type": "execute_result"
    }
   ],
   "source": [
    "\n",
    "(mean_squared_error(ytv_test, ytv_pred_etr))**0.5"
   ]
  },
  {
   "cell_type": "code",
   "execution_count": 63,
   "id": "f038b410",
   "metadata": {},
   "outputs": [
    {
     "data": {
      "text/plain": [
       "0.9734858675452284"
      ]
     },
     "execution_count": 63,
     "metadata": {},
     "output_type": "execute_result"
    }
   ],
   "source": [
    "r2_score(y_test, y_pred_etr)"
   ]
  },
  {
   "cell_type": "code",
   "execution_count": 64,
   "id": "46e2f889",
   "metadata": {},
   "outputs": [
    {
     "data": {
      "text/plain": [
       "0.7824043783884381"
      ]
     },
     "execution_count": 64,
     "metadata": {},
     "output_type": "execute_result"
    }
   ],
   "source": [
    "(mean_squared_error(y_test, y_pred_gbr))**0.5"
   ]
  },
  {
   "cell_type": "code",
   "execution_count": 65,
   "id": "d7aed4a1",
   "metadata": {},
   "outputs": [
    {
     "data": {
      "text/plain": [
       "0.4155215031217151"
      ]
     },
     "execution_count": 65,
     "metadata": {},
     "output_type": "execute_result"
    }
   ],
   "source": [
    "r2_score(ytv_test, ytv_pred_gbr)"
   ]
  },
  {
   "cell_type": "markdown",
   "id": "cfbaa5aa",
   "metadata": {},
   "source": [
    "# long way- invest in radio"
   ]
  },
  {
   "cell_type": "code",
   "execution_count": 66,
   "id": "71f35070",
   "metadata": {},
   "outputs": [],
   "source": [
    "xrd,yrd= df[['Radio']],df[['Sales']]"
   ]
  },
  {
   "cell_type": "code",
   "execution_count": 67,
   "id": "8014b0cc",
   "metadata": {},
   "outputs": [],
   "source": [
    "xrd_train, xrd_test,yrd_train, yrd_test = train_test_split(xrd,yrd,test_size=0.20,random_state=13)"
   ]
  },
  {
   "cell_type": "code",
   "execution_count": 68,
   "id": "7c01c93e",
   "metadata": {},
   "outputs": [],
   "source": [
    "regmodel = lr.fit(xrd_train,yrd_train)"
   ]
  },
  {
   "cell_type": "code",
   "execution_count": 71,
   "id": "336eff29",
   "metadata": {},
   "outputs": [],
   "source": [
    "ETR.fit(xrd_train,yrd_train)\n",
    "yrd_pred_etr = ETR.predict(xrd_test)\n"
   ]
  },
  {
   "cell_type": "code",
   "execution_count": 72,
   "id": "7b554705",
   "metadata": {
    "collapsed": true
   },
   "outputs": [
    {
     "data": {
      "text/plain": [
       "array([[11.35621866],\n",
       "       [11.6556423 ],\n",
       "       [12.64748309],\n",
       "       [12.92819275],\n",
       "       [10.13981014],\n",
       "       [17.34469138],\n",
       "       [14.66859264],\n",
       "       [11.01936707],\n",
       "       [18.65466979],\n",
       "       [13.41475616],\n",
       "       [15.39843775],\n",
       "       [11.54335844],\n",
       "       [11.22522082],\n",
       "       [13.22761639],\n",
       "       [11.37493264],\n",
       "       [18.43010206],\n",
       "       [14.57502275],\n",
       "       [10.92579719],\n",
       "       [15.90371513],\n",
       "       [15.21129798],\n",
       "       [10.81351332],\n",
       "       [11.73049821],\n",
       "       [14.7808765 ],\n",
       "       [13.15276048],\n",
       "       [13.90131957],\n",
       "       [15.52943559],\n",
       "       [ 9.72810264],\n",
       "       [10.12109617],\n",
       "       [16.27799468],\n",
       "       [15.08030014],\n",
       "       [17.0826957 ],\n",
       "       [16.10956888],\n",
       "       [18.16810638],\n",
       "       [10.57023162],\n",
       "       [17.4944032 ],\n",
       "       [10.90708321],\n",
       "       [10.40180583],\n",
       "       [18.41138808],\n",
       "       [10.1772381 ],\n",
       "       [12.10477775]])"
      ]
     },
     "execution_count": 72,
     "metadata": {},
     "output_type": "execute_result"
    }
   ],
   "source": [
    "yrd_pretest = regmodel.predict(xrd_test)\n",
    "yrd_pretest"
   ]
  },
  {
   "cell_type": "code",
   "execution_count": 73,
   "id": "4dd16b8c",
   "metadata": {},
   "outputs": [
    {
     "data": {
      "text/plain": [
       "5.500839582382957"
      ]
     },
     "execution_count": 73,
     "metadata": {},
     "output_type": "execute_result"
    }
   ],
   "source": [
    "(mean_squared_error(yrd_test, yrd_pred_etr))**0.5"
   ]
  },
  {
   "cell_type": "code",
   "execution_count": 75,
   "id": "ee5c5723",
   "metadata": {},
   "outputs": [
    {
     "data": {
      "text/plain": [
       "0.9734858675452284"
      ]
     },
     "execution_count": 75,
     "metadata": {},
     "output_type": "execute_result"
    }
   ],
   "source": [
    "r2_score(y_test, y_pred_etr)"
   ]
  },
  {
   "cell_type": "code",
   "execution_count": 82,
   "id": "bca834d0",
   "metadata": {},
   "outputs": [
    {
     "data": {
      "image/png": "[encoded data removed]",
      "text/plain": [
       "<Figure size 432x288 with 1 Axes>"
      ]
     },
     "metadata": {
      "needs_background": "light"
     },
     "output_type": "display_data"
    }
   ],
   "source": [
    "plt.scatter(xrd,yrd,color='red')\n",
    "b,a=np.polyfit(xrd.values.reshape(200),yrd.values.reshape(200),deg=1)\n",
    "xseq=np.linspace(0,50, num=100)\n",
    "plt.plot(xseq,a + b * xseq,color='k',lw=2.5);"
   ]
  },
  {
   "cell_type": "markdown",
   "id": "0255badb",
   "metadata": {},
   "source": [
    "# long way- invest in Newspaper"
   ]
  },
  {
   "cell_type": "code",
   "execution_count": 83,
   "id": "250a5eef",
   "metadata": {},
   "outputs": [],
   "source": [
    "xnw,ynw= df[['Newspaper']],df[['Sales']]"
   ]
  },
  {
   "cell_type": "code",
   "execution_count": 84,
   "id": "d9bd4ecf",
   "metadata": {},
   "outputs": [],
   "source": [
    "xnw_train, xnw_test,ynw_train, ynw_test = train_test_split(xnw,ynw,test_size=0.20,random_state=13)"
   ]
  },
  {
   "cell_type": "code",
   "execution_count": 85,
   "id": "e12c1ae3",
   "metadata": {},
   "outputs": [],
   "source": [
    "regmodel = lr.fit(xnw_train,ynw_train)"
   ]
  },
  {
   "cell_type": "code",
   "execution_count": 86,
   "id": "f0800ce9",
   "metadata": {},
   "outputs": [],
   "source": [
    "ETR.fit(xnw_train,ynw_train)\n",
    "ynw_pred_etr = ETR.predict(xnw_test)"
   ]
  },
  {
   "cell_type": "code",
   "execution_count": 87,
   "id": "d5955129",
   "metadata": {
    "collapsed": true
   },
   "outputs": [
    {
     "data": {
      "text/plain": [
       "array([[13.43232911],\n",
       "       [12.99497973],\n",
       "       [13.74839672],\n",
       "       [14.05711393],\n",
       "       [13.00233014],\n",
       "       [15.21847866],\n",
       "       [12.85164674],\n",
       "       [14.86198379],\n",
       "       [12.90309961],\n",
       "       [13.59403812],\n",
       "       [14.72967642],\n",
       "       [13.87702889],\n",
       "       [12.8185699 ],\n",
       "       [12.79651867],\n",
       "       [13.57198689],\n",
       "       [14.67454834],\n",
       "       [12.86267236],\n",
       "       [13.63446537],\n",
       "       [12.98027891],\n",
       "       [14.20779733],\n",
       "       [13.25591928],\n",
       "       [14.36950634],\n",
       "       [14.37318155],\n",
       "       [13.21181682],\n",
       "       [14.90241104],\n",
       "       [15.51249505],\n",
       "       [13.67856783],\n",
       "       [15.90206676],\n",
       "       [16.49377474],\n",
       "       [13.13096231],\n",
       "       [15.10822251],\n",
       "       [15.56394791],\n",
       "       [14.95386391],\n",
       "       [13.67489263],\n",
       "       [13.84762726],\n",
       "       [13.05010781],\n",
       "       [13.12728711],\n",
       "       [14.72967642],\n",
       "       [13.29267132],\n",
       "       [13.18609038]])"
      ]
     },
     "execution_count": 87,
     "metadata": {},
     "output_type": "execute_result"
    }
   ],
   "source": [
    "ynw_pretest = regmodel.predict(xnw_test)\n",
    "ynw_pretest"
   ]
  },
  {
   "cell_type": "code",
   "execution_count": 88,
   "id": "a99d262c",
   "metadata": {},
   "outputs": [
    {
     "data": {
      "text/plain": [
       "7.043929123720653"
      ]
     },
     "execution_count": 88,
     "metadata": {},
     "output_type": "execute_result"
    }
   ],
   "source": [
    "(mean_squared_error(ynw_test, ynw_pred_etr))**0.5"
   ]
  },
  {
   "cell_type": "code",
   "execution_count": 89,
   "id": "36862dbb",
   "metadata": {},
   "outputs": [
    {
     "data": {
      "text/plain": [
       "0.9734858675452284"
      ]
     },
     "execution_count": 89,
     "metadata": {},
     "output_type": "execute_result"
    }
   ],
   "source": [
    "r2_score(y_test, y_pred_etr)"
   ]
  },
  {
   "cell_type": "code",
   "execution_count": 93,
   "id": "c34ea337",
   "metadata": {},
   "outputs": [
    {
     "data": {
      "image/png": "[encoded data removed]",
      "text/plain": [
       "<Figure size 432x288 with 1 Axes>"
      ]
     },
     "metadata": {
      "needs_background": "light"
     },
     "output_type": "display_data"
    }
   ],
   "source": [
    "plt.scatter(xnw,ynw,color='red')\n",
    "b,a=np.polyfit(xnw.values.reshape(200),ynw.values.reshape(200),deg=1)\n",
    "xseq=np.linspace(0,100, num=100)\n",
    "plt.plot(xseq,a + b * xseq,color='k',lw=2.5);"
   ]
  },
  {
   "cell_type": "markdown",
   "id": "2a883ce4",
   "metadata": {},
   "source": [
    "### As can be seen from the graphs, our answer is TV"
   ]
  },
  {
   "cell_type": "markdown",
   "id": "72395234",
   "metadata": {},
   "source": [
    "# Part of the sort way\n",
    "# If you want to continue, you can use"
   ]
  },
  {
   "cell_type": "code",
   "execution_count": 112,
   "id": "017f3d2e",
   "metadata": {},
   "outputs": [],
   "source": [
    "def regresions(dataset,y):\n",
    "    LR=LinearRegression()\n",
    "    Las=Lasso()\n",
    "    R=Ridge()\n",
    "    ETR=ExtraTreeRegressor()\n",
    "    GBR=GradientBoostingRegressor()\n",
    "    KNR=KNeighborsRegressor()\n",
    "    x=dataset.drop([y],axis=1)\n",
    "    y=dataset[y]\n",
    "    \n",
    "    x_train,x_test,y_train,y_test=train_test_split(x,y,test_size=0.2,random_state=13)\n",
    "\n",
    "    regs=[LR,Las,R,ETR,KNR,GBR]\n",
    "    regs_name=[\"Linear\",\"Lasso\",\"Ridge\",\"ExtraTree\",'KNeighbour','Gradient']\n",
    "\n",
    "    r2=[]\n",
    "    mean_s=[]\n",
    "    mean_a=[]\n",
    "    for reg in regs:\n",
    "        model=reg.fit(x_train,y_train)\n",
    "        y_pred=model.predict(x_test)\n",
    "        mean_s.append(mean_squared_error(y_test,y_pred)**0.5)\n",
    "        r2.append(r2_score(y_test,y_pred))\n",
    "        mean_a.append(mean_absolute_error(y_test,y_pred))\n",
    "        \n",
    "    df={\"mean_absolute_error\":mean_a,\"mean_squared_error\":mean_s,\"r2_score\":r2}\n",
    "    a2={'RealData':y_test,'EstimatedData':y_pred}\n",
    "    df2=pd.DataFrame(a2)\n",
    "    df=pd.DataFrame(df,index=regs_name)\n",
    "    return df,df2,model"
   ]
  },
  {
   "cell_type": "code",
   "execution_count": 113,
   "id": "5741ad2f",
   "metadata": {},
   "outputs": [],
   "source": [
    "a1,a2,model=regresions(df,'Sales')"
   ]
  },
  {
   "cell_type": "code",
   "execution_count": 114,
   "id": "70283a40",
   "metadata": {},
   "outputs": [
    {
     "data": {
      "text/html": [
       "<div>\n",
       "<style scoped>\n",
       "    .dataframe tbody tr th:only-of-type {\n",
       "        vertical-align: middle;\n",
       "    }\n",
       "\n",
       "    .dataframe tbody tr th {\n",
       "        vertical-align: top;\n",
       "    }\n",
       "\n",
       "    .dataframe thead th {\n",
       "        text-align: right;\n",
       "    }\n",
       "</style>\n",
       "<table border=\"1\" class=\"dataframe\">\n",
       "  <thead>\n",
       "    <tr style=\"text-align: right;\">\n",
       "      <th></th>\n",
       "      <th>RealData</th>\n",
       "      <th>EstimatedData</th>\n",
       "    </tr>\n",
       "  </thead>\n",
       "  <tbody>\n",
       "    <tr>\n",
       "      <th>179</th>\n",
       "      <td>12.6</td>\n",
       "      <td>13.263639</td>\n",
       "    </tr>\n",
       "    <tr>\n",
       "      <th>155</th>\n",
       "      <td>3.2</td>\n",
       "      <td>4.676249</td>\n",
       "    </tr>\n",
       "    <tr>\n",
       "      <th>23</th>\n",
       "      <td>15.5</td>\n",
       "      <td>15.523431</td>\n",
       "    </tr>\n",
       "    <tr>\n",
       "      <th>159</th>\n",
       "      <td>12.9</td>\n",
       "      <td>12.893008</td>\n",
       "    </tr>\n",
       "    <tr>\n",
       "      <th>96</th>\n",
       "      <td>11.7</td>\n",
       "      <td>11.415367</td>\n",
       "    </tr>\n",
       "  </tbody>\n",
       "</table>\n",
       "</div>"
      ],
      "text/plain": [
       "     RealData  EstimatedData\n",
       "179      12.6      13.263639\n",
       "155       3.2       4.676249\n",
       "23       15.5      15.523431\n",
       "159      12.9      12.893008\n",
       "96       11.7      11.415367"
      ]
     },
     "execution_count": 114,
     "metadata": {},
     "output_type": "execute_result"
    }
   ],
   "source": [
    "a2.head()"
   ]
  },
  {
   "cell_type": "code",
   "execution_count": 115,
   "id": "b14fa363",
   "metadata": {},
   "outputs": [
    {
     "data": {
      "text/html": [
       "<div>\n",
       "<style scoped>\n",
       "    .dataframe tbody tr th:only-of-type {\n",
       "        vertical-align: middle;\n",
       "    }\n",
       "\n",
       "    .dataframe tbody tr th {\n",
       "        vertical-align: top;\n",
       "    }\n",
       "\n",
       "    .dataframe thead th {\n",
       "        text-align: right;\n",
       "    }\n",
       "</style>\n",
       "<table border=\"1\" class=\"dataframe\">\n",
       "  <thead>\n",
       "    <tr style=\"text-align: right;\">\n",
       "      <th></th>\n",
       "      <th>mean_absolute_error</th>\n",
       "      <th>mean_squared_error</th>\n",
       "      <th>r2_score</th>\n",
       "    </tr>\n",
       "  </thead>\n",
       "  <tbody>\n",
       "    <tr>\n",
       "      <th>KNeighbour</th>\n",
       "      <td>1.192500</td>\n",
       "      <td>1.698561</td>\n",
       "      <td>0.904469</td>\n",
       "    </tr>\n",
       "    <tr>\n",
       "      <th>ExtraTree</th>\n",
       "      <td>1.042500</td>\n",
       "      <td>1.632559</td>\n",
       "      <td>0.911749</td>\n",
       "    </tr>\n",
       "    <tr>\n",
       "      <th>Lasso</th>\n",
       "      <td>1.182754</td>\n",
       "      <td>1.453710</td>\n",
       "      <td>0.930026</td>\n",
       "    </tr>\n",
       "    <tr>\n",
       "      <th>Ridge</th>\n",
       "      <td>1.180097</td>\n",
       "      <td>1.445044</td>\n",
       "      <td>0.930858</td>\n",
       "    </tr>\n",
       "    <tr>\n",
       "      <th>Linear</th>\n",
       "      <td>1.180093</td>\n",
       "      <td>1.445033</td>\n",
       "      <td>0.930859</td>\n",
       "    </tr>\n",
       "    <tr>\n",
       "      <th>Gradient</th>\n",
       "      <td>0.610616</td>\n",
       "      <td>0.780811</td>\n",
       "      <td>0.979813</td>\n",
       "    </tr>\n",
       "  </tbody>\n",
       "</table>\n",
       "</div>"
      ],
      "text/plain": [
       "            mean_absolute_error  mean_squared_error  r2_score\n",
       "KNeighbour             1.192500            1.698561  0.904469\n",
       "ExtraTree              1.042500            1.632559  0.911749\n",
       "Lasso                  1.182754            1.453710  0.930026\n",
       "Ridge                  1.180097            1.445044  0.930858\n",
       "Linear                 1.180093            1.445033  0.930859\n",
       "Gradient               0.610616            0.780811  0.979813"
      ]
     },
     "execution_count": 115,
     "metadata": {},
     "output_type": "execute_result"
    }
   ],
   "source": [
    "a1.sort_values('r2_score')"
   ]
  },
  {
   "cell_type": "code",
   "execution_count": 118,
   "id": "30efe6b3",
   "metadata": {},
   "outputs": [
    {
     "data": {
      "text/plain": [
       "<AxesSubplot:xlabel='RealData', ylabel='EstimatedData'>"
      ]
     },
     "execution_count": 118,
     "metadata": {},
     "output_type": "execute_result"
    },
    {
     "data": {
      "image/png": "[encoded data removed]",
      "text/plain": [
       "<Figure size 432x288 with 1 Axes>"
      ]
     },
     "metadata": {
      "needs_background": "light"
     },
     "output_type": "display_data"
    }
   ],
   "source": [
    "sns.lineplot(a2.RealData,a2.EstimatedData)"
   ]
  },
  {
   "cell_type": "code",
   "execution_count": null,
   "id": "4fba0e87",
   "metadata": {},
   "outputs": [],
   "source": []
  },
  {
   "cell_type": "code",
   "execution_count": null,
   "id": "eb455543",
   "metadata": {},
   "outputs": [],
   "source": []
  },
  {
   "cell_type": "code",
   "execution_count": null,
   "id": "234b193d",
   "metadata": {},
   "outputs": [],
   "source": []
  },
  {
   "cell_type": "code",
   "execution_count": null,
   "id": "3c966f4a",
   "metadata": {},
   "outputs": [],
   "source": []
  },
  {
   "cell_type": "code",
   "execution_count": null,
   "id": "9f3222d5",
   "metadata": {},
   "outputs": [],
   "source": []
  },
  {
   "cell_type": "code",
   "execution_count": null,
   "id": "47afbfaf",
   "metadata": {},
   "outputs": [],
   "source": []
  },
  {
   "cell_type": "code",
   "execution_count": null,
   "id": "b3c6acf6",
   "metadata": {},
   "outputs": [],
   "source": []
  },
  {
   "cell_type": "code",
   "execution_count": null,
   "id": "c7b67997",
   "metadata": {},
   "outputs": [],
   "source": []
  }
 ],
 "metadata": {
  "kernelspec": {
   "display_name": "Python 3 (ipykernel)",
   "language": "python",
   "name": "python3"
  },
  "language_info": {
   "codemirror_mode": {
    "name": "ipython",
    "version": 3
   },
   "file_extension": ".py",
   "mimetype": "text/x-python",
   "name": "python",
   "nbconvert_exporter": "python",
   "pygments_lexer": "ipython3",
   "version": "3.8.13"
  }
 },
 "nbformat": 4,
 "nbformat_minor": 5
}
